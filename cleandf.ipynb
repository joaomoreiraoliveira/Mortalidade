{
 "cells": [
  {
   "cell_type": "code",
   "execution_count": 111,
   "metadata": {},
   "outputs": [],
   "source": [
    "import basedosdados as bd\n",
    "import pandas as pd"
   ]
  },
  {
   "cell_type": "markdown",
   "metadata": {},
   "source": [
    "Baixando os dados e tabelas"
   ]
  },
  {
   "cell_type": "code",
   "execution_count": 112,
   "metadata": {},
   "outputs": [
    {
     "name": "stderr",
     "output_type": "stream",
     "text": [
      "Downloading: 100%|██████████| 572/572 [00:00<00:00, 1669.30rows/s]\n"
     ]
    }
   ],
   "source": [
    "dicinoario = bd.read_table(dataset_id='br_ms_sim',\n",
    "    table_id='dicionario',\n",
    "    billing_project_id=\"probable-skill-360101\")"
   ]
  },
  {
   "cell_type": "code",
   "execution_count": 113,
   "metadata": {},
   "outputs": [
    {
     "name": "stderr",
     "output_type": "stream",
     "text": [
      "Downloading: 100%|██████████| 22618604/22618604 [22:52<00:00, 16481.83rows/s]\n"
     ]
    }
   ],
   "source": [
    "tabela = bd.read_sql(\n",
    "    '''\n",
    "    SELECT * FROM `basedosdados.br_ms_sim.municipio_causa_idade_sexo_raca`\n",
    "    ''',\n",
    "    billing_project_id= 'probable-skill-360101'\n",
    ")"
   ]
  },
  {
   "cell_type": "code",
   "execution_count": 114,
   "metadata": {},
   "outputs": [
    {
     "name": "stderr",
     "output_type": "stream",
     "text": [
      "Downloading: 100%|██████████| 168818/168818 [00:07<00:00, 23918.93rows/s]\n"
     ]
    }
   ],
   "source": [
    "populacao = bd.read_sql(\n",
    "    '''\n",
    "    SELECT * FROM `basedosdados.br_ibge_populacao.municipio`\n",
    "    ''',\n",
    "    billing_project_id= 'probable-skill-360101'\n",
    ")"
   ]
  },
  {
   "cell_type": "code",
   "execution_count": 115,
   "metadata": {},
   "outputs": [
    {
     "name": "stderr",
     "output_type": "stream",
     "text": [
      "Downloading: 100%|██████████| 644/644 [00:00<00:00, 1270.02rows/s]\n"
     ]
    }
   ],
   "source": [
    "homicidio = bd.read_sql(\n",
    "    '''\n",
    "    SELECT * FROM `basedosdados.br_isp_estatisticas_seguranca.taxa_evolucao_anual_municipio`\n",
    "    ''', \n",
    "    billing_project_id= 'probable-skill-360101')\n"
   ]
  },
  {
   "cell_type": "code",
   "execution_count": 116,
   "metadata": {},
   "outputs": [
    {
     "name": "stderr",
     "output_type": "stream",
     "text": [
      "Downloading: 100%|██████████| 2592/2592 [00:00<00:00, 6564.29rows/s]\n"
     ]
    }
   ],
   "source": [
    "pessoas_raca_sexo = bd.read_sql(\n",
    "    '''\n",
    "    SELECT * FROM `basedosdados.br_ibge_pnadc.ano_uf_raca_cor`\n",
    "    ''',\n",
    "    billing_project_id= 'probable-skill-360101')"
   ]
  },
  {
   "cell_type": "code",
   "execution_count": 117,
   "metadata": {},
   "outputs": [],
   "source": [
    "#Copiei os dados do Df para esta variavel por conta do grande tempo de download\n",
    "tabela1 = tabela"
   ]
  },
  {
   "cell_type": "markdown",
   "metadata": {},
   "source": [
    "Manipulando dados pessoas_racas_sexo"
   ]
  },
  {
   "cell_type": "code",
   "execution_count": 118,
   "metadata": {},
   "outputs": [],
   "source": [
    "filtro = pessoas_raca_sexo['ano'] >= 2017\n",
    "pessoas_raca_sexo = pessoas_raca_sexo[filtro]\n",
    "filtro = pessoas_raca_sexo['id_uf'] == '33'\n",
    "pessoas_raca_sexo = pessoas_raca_sexo[filtro]"
   ]
  },
  {
   "cell_type": "markdown",
   "metadata": {},
   "source": [
    "Manipulando dados homicídio"
   ]
  },
  {
   "cell_type": "code",
   "execution_count": 119,
   "metadata": {},
   "outputs": [],
   "source": [
    "filtro = homicidio['ano'] >= 2017\n",
    "homicidio = homicidio[filtro]\n",
    "filtro = homicidio['ano'] <= 2019\n",
    "homicidio = homicidio[filtro]\n",
    "homicidio = homicidio.drop(columns=['registro_ocorrencias','id_municipio','regiao_rj', 'tentat_hom', 'lesao_corp_dolosa', 'estupro', 'roubo_transeunte', 'lesao_corp_culposa', 'roubo_celular', 'roubo_em_coletivo', 'roubo_rua', 'roubo_carga', 'roubo_comercio', 'roubo_residencia', 'roubo_banco', 'roubo_cx_eletronico', 'roubo_conducao_saque', 'roubo_apos_saque', 'roubo_bicicleta', 'outros_roubos', 'total_roubos', 'furto_veiculos', 'furto_transeunte', 'furto_coletivo', 'furto_celular', 'furto_bicicleta', 'outros_furtos', 'total_furtos', 'sequestro', 'extorsao','sequestro_relampago', 'estelionato', 'apreensao_drogas', 'posse_drogas', 'trafico_drogas', 'apreensao_drogas_sem_autor', 'recuperacao_veiculos', 'apf', 'aaapai', 'cmp', 'cmba', 'ameaca', 'pessoas_desaparecidas', 'encontro_cadaver', 'encontro_ossada', 'pol_militares_mortos_serv', 'pol_civis_mortos_serv', 'fase'])\n",
    "homicidio = homicidio.dropna(axis=0, how='any')"
   ]
  },
  {
   "cell_type": "markdown",
   "metadata": {},
   "source": [
    "Manipulando dados dicionário"
   ]
  },
  {
   "cell_type": "code",
   "execution_count": 120,
   "metadata": {},
   "outputs": [],
   "source": [
    "filtro = dicinoario['id_tabela'] == 'municipio_causa_idade_sexo_raca'\n",
    "dicinoario = dicinoario[filtro]\n",
    "dicinoario = dicinoario.dropna(subset=['valor'])\n",
    "dicinoario = dicinoario.drop(columns=['id_tabela', 'cobertura_temporal'])"
   ]
  },
  {
   "cell_type": "markdown",
   "metadata": {},
   "source": [
    "Manipulando dados Tabela"
   ]
  },
  {
   "cell_type": "code",
   "execution_count": 121,
   "metadata": {},
   "outputs": [],
   "source": [
    "filtro = tabela1['sigla_uf'] == 'RJ'\n",
    "tabela1 = tabela1[filtro]\n",
    "tabela1 = tabela1.drop(columns=['causa_basica', 'sigla_uf'])\n",
    "tabela1 = tabela1.dropna(axis=0, how='any')\n",
    "tabela1['sexo'] = tabela1['sexo'].map({'1':'masculino', '2':'feminino'})\n",
    "tabela1['raca_cor'] = tabela1['raca_cor'].map({'1':'Branca', '2':'Preta', '3':'Amarela', '4':'Parda', '5':'Indígena'})\n",
    "tabela1 = tabela1.assign(País='Brasil')\n",
    "tabela1['id_municipio'] = tabela1['id_municipio'].map({'3300100':'Angra dos Reis', '3300159':'Aperibé', '3300209':'Araruama', '3300225':'Areal', '3300233':'Armação dos Búzios', '3300258':'Arraial do Cabo', '3300407':'Barra Mansa', '3300308':'Barra do Piraí', '3300456':'Belford Roxo', '3300506':'Bom Jardim', '3300605':'Bom Jesus do Itabapoana', '3300704':'Cabo Frio', '3300803':'Cachoeiras de Macacu', '3300902':'Cambuci', '3301009':'Campos dos Goytacazes', '3301108':'Cantagalo', '3300936':'Carapebus', '3301157':'Cardoso Moreira', '3301207':'Carmo', '3301306':'Casimiro de Abreu', '3300951':'Comendador Levy Gasparian', '3301405':'Conceição de Macabu', '3301504':'Cordeiro', '3301603':'Duas Barras', '3301702':'Duque de Caxias', '3301801':'Engenheiro Paulo de Frontin', '3301850':'Guapimirim', '3301876':'Iguaba Grande', '3301900':'Itaboraí', '3302007':'Itaguaí', '3302056':'Italva', '3302106':'Itaocara', '3302205':'Itaperuna', '3302254':'Itatiaia', '3302270':'Japeri', '3302304':'Laje do Muriaé', '3302403':'Macaé', '3302452':'Macuco', '3302502':'Magé', '3302601':'Mangaratiba', '3302700':'Maricá', '3302809':'Mendes', '3302858':'Mesquita', '3302908':'Miguel Pereira', '3303005':'Miracema', '3303104':'Natividade', '3303203':'Nilópolis', '3303302':'Niterói', '3303401':'Nova Friburgo', '3303500':'Nova Iguaçu', '3303609':'Paracambi', '3303708':'Paraíba do Sul', '3303807':'Paraty', '3303856':'Paty do Alferes', '3303906':'Petrópolis', '3303955':'Pinheiral', '3304003':'Piraí', '3304102':'Porciúncula', '3304110':'Porto Real', '3304128':'Quatis', '3304144':'Queimados', '3304151':'Quissamã', '3304201':'Resende', '3304300':'Rio Bonito', '3304409':'Rio Claro', '3304508':'Rio das Flores', '3304524':'Rio das Ostras', '3304557':'Rio de Janeiro', '3304607':'Santa Maria Madalena', '3304706':'Santo Antônio de Pádua', '3304805':'São Fidélis', '3304755':'São Francisco de Itabapoana', '3304904':'São Gonçalo', '3305000':'São João da Barra', '3305109':'São João de Meriti', '3305133':'São José de Ubá', '3305158':'São José do Vale do Rio Preto', '3305208':'São Pedro da Aldeia', '3305307':'São Sebastião do Alto', '3305406':'Sapucaia', '3305505':'Saquarema', '3305554':'Seropédica', '3305604':'Silva Jardim', '3305703':'Sumidouro', '3305752':'Tanguá', '3305802':'Teresópolis', '3305901':'Trajano de Moraes', '3306008':'Três Rios', '3306107':'Valença', '3306156':'Varre-Sai', '3306206':'Vassouras', '3306305':'Volta Redonda'})"
   ]
  },
  {
   "cell_type": "markdown",
   "metadata": {},
   "source": [
    "Manipulando dados População"
   ]
  },
  {
   "cell_type": "code",
   "execution_count": 122,
   "metadata": {},
   "outputs": [
    {
     "data": {
      "text/html": [
       "<div>\n",
       "<style scoped>\n",
       "    .dataframe tbody tr th:only-of-type {\n",
       "        vertical-align: middle;\n",
       "    }\n",
       "\n",
       "    .dataframe tbody tr th {\n",
       "        vertical-align: top;\n",
       "    }\n",
       "\n",
       "    .dataframe thead th {\n",
       "        text-align: right;\n",
       "    }\n",
       "</style>\n",
       "<table border=\"1\" class=\"dataframe\">\n",
       "  <thead>\n",
       "    <tr style=\"text-align: right;\">\n",
       "      <th></th>\n",
       "      <th>ano</th>\n",
       "      <th>sigla_uf</th>\n",
       "      <th>id_municipio</th>\n",
       "      <th>populacao</th>\n",
       "    </tr>\n",
       "  </thead>\n",
       "  <tbody>\n",
       "    <tr>\n",
       "      <th>96239</th>\n",
       "      <td>2017</td>\n",
       "      <td>RJ</td>\n",
       "      <td>Angra dos Reis</td>\n",
       "      <td>194619</td>\n",
       "    </tr>\n",
       "    <tr>\n",
       "      <th>96240</th>\n",
       "      <td>2018</td>\n",
       "      <td>RJ</td>\n",
       "      <td>Angra dos Reis</td>\n",
       "      <td>200407</td>\n",
       "    </tr>\n",
       "    <tr>\n",
       "      <th>96241</th>\n",
       "      <td>2019</td>\n",
       "      <td>RJ</td>\n",
       "      <td>Angra dos Reis</td>\n",
       "      <td>203785</td>\n",
       "    </tr>\n",
       "    <tr>\n",
       "      <th>96269</th>\n",
       "      <td>2017</td>\n",
       "      <td>RJ</td>\n",
       "      <td>Aperibé</td>\n",
       "      <td>11292</td>\n",
       "    </tr>\n",
       "    <tr>\n",
       "      <th>96270</th>\n",
       "      <td>2018</td>\n",
       "      <td>RJ</td>\n",
       "      <td>Aperibé</td>\n",
       "      <td>11612</td>\n",
       "    </tr>\n",
       "    <tr>\n",
       "      <th>...</th>\n",
       "      <td>...</td>\n",
       "      <td>...</td>\n",
       "      <td>...</td>\n",
       "      <td>...</td>\n",
       "    </tr>\n",
       "    <tr>\n",
       "      <th>98959</th>\n",
       "      <td>2018</td>\n",
       "      <td>RJ</td>\n",
       "      <td>Vassouras</td>\n",
       "      <td>36702</td>\n",
       "    </tr>\n",
       "    <tr>\n",
       "      <th>98960</th>\n",
       "      <td>2019</td>\n",
       "      <td>RJ</td>\n",
       "      <td>Vassouras</td>\n",
       "      <td>36896</td>\n",
       "    </tr>\n",
       "    <tr>\n",
       "      <th>98989</th>\n",
       "      <td>2017</td>\n",
       "      <td>RJ</td>\n",
       "      <td>Volta Redonda</td>\n",
       "      <td>265201</td>\n",
       "    </tr>\n",
       "    <tr>\n",
       "      <th>98990</th>\n",
       "      <td>2018</td>\n",
       "      <td>RJ</td>\n",
       "      <td>Volta Redonda</td>\n",
       "      <td>271998</td>\n",
       "    </tr>\n",
       "    <tr>\n",
       "      <th>98991</th>\n",
       "      <td>2019</td>\n",
       "      <td>RJ</td>\n",
       "      <td>Volta Redonda</td>\n",
       "      <td>273012</td>\n",
       "    </tr>\n",
       "  </tbody>\n",
       "</table>\n",
       "<p>276 rows × 4 columns</p>\n",
       "</div>"
      ],
      "text/plain": [
       "        ano sigla_uf    id_municipio  populacao\n",
       "96239  2017       RJ  Angra dos Reis     194619\n",
       "96240  2018       RJ  Angra dos Reis     200407\n",
       "96241  2019       RJ  Angra dos Reis     203785\n",
       "96269  2017       RJ         Aperibé      11292\n",
       "96270  2018       RJ         Aperibé      11612\n",
       "...     ...      ...             ...        ...\n",
       "98959  2018       RJ       Vassouras      36702\n",
       "98960  2019       RJ       Vassouras      36896\n",
       "98989  2017       RJ   Volta Redonda     265201\n",
       "98990  2018       RJ   Volta Redonda     271998\n",
       "98991  2019       RJ   Volta Redonda     273012\n",
       "\n",
       "[276 rows x 4 columns]"
      ]
     },
     "execution_count": 122,
     "metadata": {},
     "output_type": "execute_result"
    }
   ],
   "source": [
    "filtro = populacao['ano'] >= 2017\n",
    "populacao = populacao[filtro]\n",
    "filtro = populacao['ano'] <= 2019 \n",
    "populacao = populacao[filtro]\n",
    "filtro = populacao['sigla_uf'] == 'RJ'\n",
    "populacao = populacao[filtro]\n",
    "populacao['id_municipio'] = populacao['id_municipio'].map({'3300100':'Angra dos Reis', '3300159':'Aperibé', '3300209':'Araruama', '3300225':'Areal', '3300233':'Armação dos Búzios', '3300258':'Arraial do Cabo', '3300407':'Barra Mansa', '3300308':'Barra do Piraí', '3300456':'Belford Roxo', '3300506':'Bom Jardim', '3300605':'Bom Jesus do Itabapoana', '3300704':'Cabo Frio', '3300803':'Cachoeiras de Macacu', '3300902':'Cambuci', '3301009':'Campos dos Goytacazes', '3301108':'Cantagalo', '3300936':'Carapebus', '3301157':'Cardoso Moreira', '3301207':'Carmo', '3301306':'Casimiro de Abreu', '3300951':'Comendador Levy Gasparian', '3301405':'Conceição de Macabu', '3301504':'Cordeiro', '3301603':'Duas Barras', '3301702':'Duque de Caxias', '3301801':'Engenheiro Paulo de Frontin', '3301850':'Guapimirim', '3301876':'Iguaba Grande', '3301900':'Itaboraí', '3302007':'Itaguaí', '3302056':'Italva', '3302106':'Itaocara', '3302205':'Itaperuna', '3302254':'Itatiaia', '3302270':'Japeri', '3302304':'Laje do Muriaé', '3302403':'Macaé', '3302452':'Macuco', '3302502':'Magé', '3302601':'Mangaratiba', '3302700':'Maricá', '3302809':'Mendes', '3302858':'Mesquita', '3302908':'Miguel Pereira', '3303005':'Miracema', '3303104':'Natividade', '3303203':'Nilópolis', '3303302':'Niterói', '3303401':'Nova Friburgo', '3303500':'Nova Iguaçu', '3303609':'Paracambi', '3303708':'Paraíba do Sul', '3303807':'Paraty', '3303856':'Paty do Alferes', '3303906':'Petrópolis', '3303955':'Pinheiral', '3304003':'Piraí', '3304102':'Porciúncula', '3304110':'Porto Real', '3304128':'Quatis', '3304144':'Queimados', '3304151':'Quissamã', '3304201':'Resende', '3304300':'Rio Bonito', '3304409':'Rio Claro', '3304508':'Rio das Flores', '3304524':'Rio das Ostras', '3304557':'Rio de Janeiro', '3304607':'Santa Maria Madalena', '3304706':'Santo Antônio de Pádua', '3304805':'São Fidélis', '3304755':'São Francisco de Itabapoana', '3304904':'São Gonçalo', '3305000':'São João da Barra', '3305109':'São João de Meriti', '3305133':'São José de Ubá', '3305158':'São José do Vale do Rio Preto', '3305208':'São Pedro da Aldeia', '3305307':'São Sebastião do Alto', '3305406':'Sapucaia', '3305505':'Saquarema', '3305554':'Seropédica', '3305604':'Silva Jardim', '3305703':'Sumidouro', '3305752':'Tanguá', '3305802':'Teresópolis', '3305901':'Trajano de Moraes', '3306008':'Três Rios', '3306107':'Valença', '3306156':'Varre-Sai', '3306206':'Vassouras', '3306305':'Volta Redonda'})\n",
    "populacao"
   ]
  },
  {
   "cell_type": "markdown",
   "metadata": {},
   "source": [
    "Gerando tabelas com os dados de 2019 até 2017"
   ]
  },
  {
   "cell_type": "code",
   "execution_count": 123,
   "metadata": {},
   "outputs": [],
   "source": [
    "filtro = tabela1['ano'] == 2019\n",
    "tabela_2019 = tabela1[filtro]\n",
    "file_name = 'mortaldade_2019.xlsx'\n",
    "tabela_2019.to_excel(file_name)"
   ]
  },
  {
   "cell_type": "code",
   "execution_count": 124,
   "metadata": {},
   "outputs": [],
   "source": [
    "filtro = tabela1['ano'] == 2018\n",
    "tabela_2018 = tabela1[filtro]\n",
    "file_name = 'mortaldade_2018.xlsx'\n",
    "tabela_2018.to_excel(file_name)"
   ]
  },
  {
   "cell_type": "code",
   "execution_count": 125,
   "metadata": {},
   "outputs": [],
   "source": [
    "filtro = tabela1['ano'] == 2017\n",
    "tabela_2017 = tabela1[filtro]\n",
    "file_name = 'mortaldade_2017.xlsx'\n",
    "tabela_2017.to_excel(file_name)"
   ]
  },
  {
   "cell_type": "markdown",
   "metadata": {},
   "source": [
    "Gerando tabela com os 3 anos juntos"
   ]
  },
  {
   "cell_type": "code",
   "execution_count": 126,
   "metadata": {},
   "outputs": [],
   "source": [
    "tabela_geral = tabela1\n",
    "filtro = tabela1['ano'] >= 2017\n",
    "tabela_geral = tabela1[filtro]\n",
    "tabela_geral = tabela_geral.drop(columns=['País'])\n",
    "file_name = 'mortaldade_geral.xlsx'\n",
    "tabela_geral.to_excel(file_name)"
   ]
  },
  {
   "cell_type": "markdown",
   "metadata": {},
   "source": [
    "Gerando tabela com a população dos munícipios"
   ]
  },
  {
   "cell_type": "code",
   "execution_count": 127,
   "metadata": {},
   "outputs": [],
   "source": [
    "file_name = 'populacao.xlsx'\n",
    "populacao.to_excel(file_name)"
   ]
  },
  {
   "cell_type": "markdown",
   "metadata": {},
   "source": [
    "Gerando tabela de homicidios"
   ]
  },
  {
   "cell_type": "code",
   "execution_count": 128,
   "metadata": {},
   "outputs": [],
   "source": [
    "file_name = 'homicidios.xlsx'\n",
    "homicidio.to_excel(file_name)"
   ]
  },
  {
   "cell_type": "markdown",
   "metadata": {},
   "source": [
    "Gerando tabela de pessoas por etnia e sexo"
   ]
  },
  {
   "cell_type": "code",
   "execution_count": 129,
   "metadata": {},
   "outputs": [],
   "source": [
    "file_name = 'pessoas_raca_sexo.xlsx'\n",
    "pessoas_raca_sexo.to_excel(file_name)"
   ]
  }
 ],
 "metadata": {
  "kernelspec": {
   "display_name": "Python 3.9.6 64-bit",
   "language": "python",
   "name": "python3"
  },
  "language_info": {
   "codemirror_mode": {
    "name": "ipython",
    "version": 3
   },
   "file_extension": ".py",
   "mimetype": "text/x-python",
   "name": "python",
   "nbconvert_exporter": "python",
   "pygments_lexer": "ipython3",
   "version": "3.9.6"
  },
  "orig_nbformat": 4,
  "vscode": {
   "interpreter": {
    "hash": "260633d7561f2ae39b09021c6b686d2e8b100788783bd9e5f57a38a5123fc6de"
   }
  }
 },
 "nbformat": 4,
 "nbformat_minor": 2
}
